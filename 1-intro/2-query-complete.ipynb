{
 "cells": [
  {
   "cell_type": "code",
   "execution_count": 1,
   "metadata": {},
   "outputs": [
    {
     "name": "stdout",
     "output_type": "stream",
     "text": [
      "AWS_ACCESS_KEY:\tASIAYSBMLFYMRGTEAHSX\n",
      "AWS_SECRET_KEY:\tDHI6MCUjoYNtIUxc21BITL3lHaZdoI6I8xCN5CEq\n",
      "AWS_SECRET_TOKEN:\tIQoJb3JpZ2luX2VjEOf//////////wEaCXVzLXdlc3QtMiJHMEUCIQDe5p8nA/LkI0TkgD5WLqXSll8PEgHTN01o9Xtf2xRqRAIgMwFFYNMx/Q3FEZ2Y8ZdKuteHAdxedgmBngO8m5XeplIqmgMIXxABGgw1ODg1MDM1MjY5MzciDFbixPcKHK/URIzPVyr3Aj//HWlko+KSWgGAp06XYpJkRYLi9ZCQswHBo8mPVXzT5vhgeYeYaEF29SrdkMrgJXe/vnvIgBrehLbAf5qWdgt/2vBVV8xBzDLqalRUoB0bH9oTN5VmA3BKuE+jkeDhMNJbWfWmpMf4wkideEQyhfPt/pXzFZVaQALgzh8y/eR4gPBJ3PjpJHuX434tXQidvz/YycYnzByA1/kU7bWOwFQS4FfMiqrqjeildsMvmeqE+sgqYYiBt/OuniMaHTY6VQU3gpfOWFCRd/BIG5JyfFDW2yhi9l3ZkQkZUqao7lw02PJ/z1g0DUn5qi7MJrUK0SkzoBf6IU/bw7++gC3FIMLejdWvypVOMqfNiwNR0re1xm3EE1aODaRmAsPFHDCZJ4ne7Y1k2Ds6tST44CdL3YEX0Xr4jOORqFO9Jj2eJyi/jMFNyEn9R3aI34njt505BidYbPbTWSF0OXSM73xyDMMvOE7G55u3pAYFCicOC9NhvCVdlvTBeTCd/beyBjqeAcM/FuTa+1swKXFXkzyfv7Z2K4BeWmVTcTd1F3u7iv00C8cZhhxi6DEZIIJjkaRTUXDoJljzZx57zIylDkNJPhddOhhH41J1Vm17afUKv8e1sJW3Dxrh8d1njnczAo/CqOPEfWCeJcDNBLlyr8DYgQ4H6Jj/SXQvl4EcPBKAcrwpIbaCDT1O7uOUX9RQuObmWGIa+jIQ6ooWp8cGsknV\n",
      "WEAVIATE_IP:\t35.89.240.145\n"
     ]
    }
   ],
   "source": [
    "%store -r WEAVIATE_IP\n",
    "from boto3 import Session\n",
    "\n",
    "session = Session()\n",
    "credentials = session.get_credentials()\n",
    "current_credentials = credentials.get_frozen_credentials()\n",
    "\n",
    "AWS_ACCESS_KEY = current_credentials.access_key\n",
    "AWS_SECRET_KEY = current_credentials.secret_key\n",
    "AWS_SECRET_TOKEN = current_credentials.token\n",
    "print(f\"AWS_ACCESS_KEY:\\t{AWS_ACCESS_KEY}\")\n",
    "print(f\"AWS_SECRET_KEY:\\t{AWS_SECRET_KEY}\")\n",
    "print(f\"AWS_SECRET_TOKEN:\\t{AWS_SECRET_TOKEN}\")\n",
    "print(f\"WEAVIATE_IP:\\t{WEAVIATE_IP}\")"
   ]
  },
  {
   "cell_type": "markdown",
   "metadata": {},
   "source": [
    "# Time to Search"
   ]
  },
  {
   "cell_type": "markdown",
   "metadata": {},
   "source": [
    "## Connect to Weaviate"
   ]
  },
  {
   "cell_type": "code",
   "execution_count": 2,
   "metadata": {},
   "outputs": [],
   "source": [
    "import weaviate\n",
    "\n",
    "client = weaviate.connect_to_custom(\n",
    "    http_host=WEAVIATE_IP, http_port=\"8080\",  http_secure=False,\n",
    "    grpc_host=WEAVIATE_IP, grpc_port=\"50051\", grpc_secure=False,\n",
    "\n",
    "    headers={\n",
    "        \"X-AWS-Access-Key\": AWS_ACCESS_KEY,\n",
    "        \"X-AWS-Secret-Key\": AWS_SECRET_KEY,\n",
    "        \"X-AWS-Session-Token\": AWS_SECRET_TOKEN,\n",
    "    }\n",
    ")"
   ]
  },
  {
   "cell_type": "markdown",
   "metadata": {},
   "source": [
    "## Vector search\n",
    "[Docs - near_text](https://weaviate.io/developers/weaviate/search/similarity#an-input-medium)"
   ]
  },
  {
   "cell_type": "code",
   "execution_count": 3,
   "metadata": {},
   "outputs": [
    {
     "name": "stdout",
     "output_type": "stream",
     "text": [
      "{'answer': 'glass', 'question': 'Flute, tumbler, shot', 'category': 'COMMON BONDS'}\n",
      "{'answer': 'Things that are spiked', 'question': 'Hair, Punch, A volleyball', 'category': 'COMMON BONDS'}\n",
      "{'answer': 'a coupler', 'question': \"It's a device used to connect railroad cars; today's automatic knuckle one was patented by Eli Janney in 1873\", 'category': 'TRANSPORTATION'}\n",
      "{'answer': 'pasta', 'question': 'Type of food that comes in shapes of bow ties, elbows & wagon wheels', 'category': 'FOOD'}\n",
      "{'answer': 'things that rhyme', 'question': 'Thyme, crime, dime, grime, lime, mime, slime', 'category': 'COMMON BONDS'}\n"
     ]
    }
   ],
   "source": [
    "jeopardy = client.collections.get(\"Jeopardy\")\n",
    "\n",
    "response = jeopardy.query.near_text(\n",
    "    query=\"musical instruments\",\n",
    "    limit=5\n",
    ")\n",
    "\n",
    "for item in response.objects:\n",
    "    print(item.properties)"
   ]
  },
  {
   "cell_type": "markdown",
   "metadata": {},
   "source": [
    "## Search with filters\n",
    "[Docs - Filters](https://weaviate.io/developers/weaviate/search/filters)"
   ]
  },
  {
   "cell_type": "code",
   "execution_count": 4,
   "metadata": {},
   "outputs": [
    {
     "name": "stdout",
     "output_type": "stream",
     "text": [
      "{'answer': 'glass', 'question': 'Flute, tumbler, shot', 'category': 'COMMON BONDS'}\n",
      "{'answer': 'Things that are spiked', 'question': 'Hair, Punch, A volleyball', 'category': 'COMMON BONDS'}\n",
      "{'answer': 'things that rhyme', 'question': 'Thyme, crime, dime, grime, lime, mime, slime', 'category': 'COMMON BONDS'}\n",
      "{'answer': 'upside-down', 'question': 'Spanish punctuation, pineapple cake, people owing $400,000 on a home now worth $300,000', 'category': 'COMMON BONDS'}\n",
      "{'answer': 'button', 'question': \"Bachelor's, panic, belly\", 'category': 'COMMON BONDS'}\n"
     ]
    }
   ],
   "source": [
    "from weaviate.classes.query import Filter\n",
    "jeopardy = client.collections.get(\"Jeopardy\")\n",
    "\n",
    "response = jeopardy.query.near_text(\n",
    "    query=\"musical instruments\",\n",
    "    limit=5,\n",
    "    filters=Filter.by_property(\"category\").like(\"COMMON\")\n",
    ")\n",
    "\n",
    "for item in response.objects:\n",
    "    print(item.properties)"
   ]
  },
  {
   "cell_type": "markdown",
   "metadata": {},
   "source": [
    "## Keyword Search\n",
    "[Docs - bm25](https://weaviate.io/developers/weaviate/search/bm25)"
   ]
  },
  {
   "cell_type": "code",
   "execution_count": 5,
   "metadata": {},
   "outputs": [
    {
     "name": "stdout",
     "output_type": "stream",
     "text": [
      "{'answer': 'Trans-Siberian Railroad', 'question': 'The railroad known by this hyphenated name runs over 5,000 miles from Moscow to Vladivostok', 'category': 'TRANSPORTATION'}\n",
      "{'answer': 'Amtrak', 'question': 'The corporation whose logo is seen here was created in 1971: (AKA the National Railroad Passenger Corporation)', 'category': 'BUSINESS & INDUSTRY'}\n",
      "{'answer': 'San Francisco', 'question': \"This city's Cable Car Museum has one from fhe first company, the Clay Street Hill Railroad\", 'category': 'MUSEUMS'}\n",
      "{'answer': 'a coupler', 'question': \"It's a device used to connect railroad cars; today's automatic knuckle one was patented by Eli Janney in 1873\", 'category': 'TRANSPORTATION'}\n"
     ]
    }
   ],
   "source": [
    "response = jeopardy.query.bm25(\n",
    "    query=\"railroad\",\n",
    "    # query=\"railroad africa\",\n",
    "    limit=10,\n",
    ")\n",
    "\n",
    "for item in response.objects:\n",
    "    print(item.properties)"
   ]
  },
  {
   "cell_type": "code",
   "execution_count": 6,
   "metadata": {},
   "outputs": [
    {
     "name": "stdout",
     "output_type": "stream",
     "text": [
      "{'answer': 'Africa', 'question': 'The black-footed penguin is native to the south of this continent, whose north had the highest temperature on record', 'category': 'SCIENCE & NATURE'}\n",
      "{'answer': 'Trans-Siberian Railroad', 'question': 'The railroad known by this hyphenated name runs over 5,000 miles from Moscow to Vladivostok', 'category': 'TRANSPORTATION'}\n"
     ]
    }
   ],
   "source": [
    "response = jeopardy.query.bm25(\n",
    "    query=\"railroad africa\",\n",
    "    query_properties=[\"answer\"],\n",
    "    limit=10,\n",
    ")\n",
    "\n",
    "for item in response.objects:\n",
    "    print(item.properties)"
   ]
  },
  {
   "cell_type": "markdown",
   "metadata": {},
   "source": [
    "## Hybrid search\n",
    "[Docs - hybrid](https://weaviate.io/developers/weaviate/search/hybrid)"
   ]
  },
  {
   "cell_type": "code",
   "execution_count": 7,
   "metadata": {},
   "outputs": [
    {
     "name": "stdout",
     "output_type": "stream",
     "text": [
      "a coupler  ||  It's a device used to connect railroad cars; today's automatic knuckle one was patented by Eli Janney in 1873\n",
      "Amtrak  ||  The corporation whose logo is seen here was created in 1971: (AKA the National Railroad Passenger Corporation)\n",
      "Trans-Siberian Railroad  ||  The railroad known by this hyphenated name runs over 5,000 miles from Moscow to Vladivostok\n",
      "San Francisco  ||  This city's Cable Car Museum has one from fhe first company, the Clay Street Hill Railroad\n",
      "the Pony Express  ||  Entrepreneurs William Russell, Alexander Majors & William B. Waddell founded this in 1860; it lasted 18 months\n"
     ]
    }
   ],
   "source": [
    "jeopardy = client.collections.get(\"Jeopardy\")\n",
    "\n",
    "response = jeopardy.query.hybrid(\n",
    "    query=\"rail, trains and cars\",\n",
    "    alpha=0.8,\n",
    "    limit=5,\n",
    ")\n",
    "\n",
    "for item in response.objects:\n",
    "    print(item.properties[\"answer\"], \" || \", item.properties[\"question\"])"
   ]
  },
  {
   "cell_type": "code",
   "execution_count": 8,
   "metadata": {},
   "outputs": [
    {
     "name": "stdout",
     "output_type": "stream",
     "text": [
      "Trans-Siberian Railroad  ||  The railroad known by this hyphenated name runs over 5,000 miles from Moscow to Vladivostok\n",
      "a coupler  ||  It's a device used to connect railroad cars; today's automatic knuckle one was patented by Eli Janney in 1873\n",
      "Amtrak  ||  The corporation whose logo is seen here was created in 1971: (AKA the National Railroad Passenger Corporation)\n",
      "San Francisco  ||  This city's Cable Car Museum has one from fhe first company, the Clay Street Hill Railroad\n",
      "the Pony Express  ||  Entrepreneurs William Russell, Alexander Majors & William B. Waddell founded this in 1860; it lasted 18 months\n"
     ]
    }
   ],
   "source": [
    "jeopardy = client.collections.get(\"Jeopardy\")\n",
    "\n",
    "response = jeopardy.query.hybrid(\n",
    "    query=\"train railroad cars\",\n",
    "    query_properties=[\"answer^5\", \"question\"],\n",
    "    alpha=0.5,\n",
    "    limit=5,\n",
    ")\n",
    "\n",
    "for item in response.objects:\n",
    "    print(item.properties[\"answer\"], \" || \", item.properties[\"question\"])"
   ]
  },
  {
   "cell_type": "code",
   "execution_count": 9,
   "metadata": {},
   "outputs": [
    {
     "name": "stdout",
     "output_type": "stream",
     "text": [
      "\n",
      "Hybrid (Result Set vector) Document cd1d4382-0ef7-45c1-8aed-982b2de171db: original score 0.42831516, normalized score: 0.46942347 - \n",
      "Hybrid (Result Set keyword) Document cd1d4382-0ef7-45c1-8aed-982b2de171db: original score 2.207006, normalized score: 0.5\n",
      "Trans-Siberian Railroad  ||  The railroad known by this hyphenated name runs over 5,000 miles from Moscow to Vladivostok\n",
      "\n",
      "Hybrid (Result Set vector) Document 3002485b-9407-415b-96e4-177dea908b5f: original score 0.44950658, normalized score: 0.48832002 - \n",
      "Hybrid (Result Set keyword) Document 3002485b-9407-415b-96e4-177dea908b5f: original score 0.87112504, normalized score: 0 - \n",
      "Hybrid (Result Set keyword) Document 3002485b-9407-415b-96e4-177dea908b5f: original score 1.1787481, normalized score: 0.11513866\n",
      "a coupler  ||  It's a device used to connect railroad cars; today's automatic knuckle one was patented by Eli Janney in 1873\n",
      "\n",
      "Hybrid (Result Set vector) Document c8589a02-08e7-4e42-b0f0-bd052606c53b: original score 0.45214206, normalized score: 0.4906701 - \n",
      "Hybrid (Result Set keyword) Document c8589a02-08e7-4e42-b0f0-bd052606c53b: original score 1.0358162, normalized score: 0.0616414\n",
      "Amtrak  ||  The corporation whose logo is seen here was created in 1971: (AKA the National Railroad Passenger Corporation)\n",
      "\n",
      "Hybrid (Result Set vector) Document 8ebc928d-2ee4-4e87-9296-57b85eef0bd3: original score 0.462605, normalized score: 0.5 - \n",
      "Hybrid (Result Set keyword) Document 8ebc928d-2ee4-4e87-9296-57b85eef0bd3: original score 0.96299255, normalized score: 0.034384616\n",
      "San Francisco  ||  This city's Cable Car Museum has one from fhe first company, the Clay Street Hill Railroad\n",
      "\n",
      "Hybrid (Result Set vector) Document 4bc6f081-36ad-450a-a24f-d59006ea9267: original score 0.27325004, normalized score: 0.3311506\n",
      "the Pony Express  ||  Entrepreneurs William Russell, Alexander Majors & William B. Waddell founded this in 1860; it lasted 18 months\n"
     ]
    }
   ],
   "source": [
    "from weaviate.classes.query import MetadataQuery\n",
    "jeopardy = client.collections.get(\"Jeopardy\")\n",
    "\n",
    "response = jeopardy.query.hybrid(\n",
    "    query=\"train railroad cars\",\n",
    "    query_properties=[\"answer^5\", \"question\"],\n",
    "    alpha=0.5,\n",
    "    return_metadata=MetadataQuery(explain_score=True),\n",
    "    limit=5,\n",
    ")\n",
    "\n",
    "for item in response.objects:\n",
    "    print(item.metadata.explain_score)\n",
    "    print(item.properties[\"answer\"], \" || \", item.properties[\"question\"])"
   ]
  },
  {
   "cell_type": "markdown",
   "metadata": {},
   "source": [
    "## Close the client when done"
   ]
  },
  {
   "cell_type": "code",
   "execution_count": 10,
   "metadata": {},
   "outputs": [],
   "source": [
    "client.close()"
   ]
  },
  {
   "cell_type": "code",
   "execution_count": null,
   "metadata": {},
   "outputs": [],
   "source": []
  }
 ],
 "metadata": {
  "kernelspec": {
   "display_name": "Python 3 (ipykernel)",
   "language": "python",
   "name": "python3"
  },
  "language_info": {
   "codemirror_mode": {
    "name": "ipython",
    "version": 3
   },
   "file_extension": ".py",
   "mimetype": "text/x-python",
   "name": "python",
   "nbconvert_exporter": "python",
   "pygments_lexer": "ipython3",
   "version": "3.10.14"
  }
 },
 "nbformat": 4,
 "nbformat_minor": 4
}
