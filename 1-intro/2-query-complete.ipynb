{
 "cells": [
  {
   "cell_type": "code",
   "execution_count": null,
   "metadata": {},
   "outputs": [],
   "source": [
    "import os\n",
    "from dotenv import load_dotenv, find_dotenv\n",
    "_ = load_dotenv(find_dotenv()) # read local .env file\n",
    "\n",
    "AWS_ACCESS_KEY = os.getenv(\"ACCESS_KEY\")\n",
    "AWS_SECRET_KEY = os.getenv(\"SECRET_KEY\")\n",
    "\n",
    "WEAVIATE_IP = os.getenv(\"WEAVIATE_IP\")"
   ]
  },
  {
   "cell_type": "markdown",
   "metadata": {},
   "source": [
    "# Time to Search"
   ]
  },
  {
   "cell_type": "markdown",
   "metadata": {},
   "source": [
    "## Connect to Weaviate"
   ]
  },
  {
   "cell_type": "code",
   "execution_count": null,
   "metadata": {},
   "outputs": [],
   "source": [
    "import weaviate\n",
    "\n",
    "client = weaviate.connect_to_custom(\n",
    "    http_host={WEAVIATE_IP}, http_port=\"8080\",  http_secure=False,\n",
    "    grpc_host={WEAVIATE_IP}, grpc_port=\"50051\", grpc_secure=False,\n",
    "\n",
    "    headers={\n",
    "        \"X-AWS-Access-Key\": AWS_ACCESS_KEY,\n",
    "        \"X-AWS-Secret-Key\": AWS_SECRET_KEY,\n",
    "    }\n",
    ")"
   ]
  },
  {
   "cell_type": "code",
   "execution_count": null,
   "metadata": {},
   "outputs": [],
   "source": [
    "# import weaviate\n",
    "\n",
    "# client = weaviate.connect_to_local(\n",
    "#     headers={\n",
    "#         \"X-AWS-Access-Key\": AWS_ACCESS_KEY,\n",
    "#         \"X-AWS-Secret-Key\": AWS_SECRET_KEY,\n",
    "#     }\n",
    "# )"
   ]
  },
  {
   "cell_type": "markdown",
   "metadata": {},
   "source": [
    "## Vector search\n",
    "[Docs - near_text](https://weaviate.io/developers/weaviate/search/similarity#an-input-medium)"
   ]
  },
  {
   "cell_type": "code",
   "execution_count": null,
   "metadata": {},
   "outputs": [],
   "source": [
    "jeopardy = client.collections.get(\"Jeopardy\")\n",
    "\n",
    "response = jeopardy.query.near_text(\n",
    "    query=\"musical instruments\",\n",
    "    limit=5\n",
    ")\n",
    "\n",
    "for item in response.objects:\n",
    "    print(item.properties)"
   ]
  },
  {
   "cell_type": "markdown",
   "metadata": {},
   "source": [
    "## Search with filters\n",
    "[Docs - Filters](https://weaviate.io/developers/weaviate/search/filters)"
   ]
  },
  {
   "cell_type": "code",
   "execution_count": null,
   "metadata": {},
   "outputs": [],
   "source": [
    "from weaviate.classes.query import Filter\n",
    "jeopardy = client.collections.get(\"Jeopardy\")\n",
    "\n",
    "response = jeopardy.query.near_text(\n",
    "    query=\"musical instruments\",\n",
    "    limit=5,\n",
    "    filters=Filter.by_property(\"category\").like(\"COMMON\")\n",
    ")\n",
    "\n",
    "for item in response.objects:\n",
    "    print(item.properties)"
   ]
  },
  {
   "cell_type": "markdown",
   "metadata": {},
   "source": [
    "## Keyword Search\n",
    "[Docs - bm25](https://weaviate.io/developers/weaviate/search/bm25)"
   ]
  },
  {
   "cell_type": "code",
   "execution_count": null,
   "metadata": {},
   "outputs": [],
   "source": [
    "response = jeopardy.query.bm25(\n",
    "    query=\"railroad\",\n",
    "    # query=\"railroad africa\",\n",
    "    limit=10,\n",
    ")\n",
    "\n",
    "for item in response.objects:\n",
    "    print(item.properties)"
   ]
  },
  {
   "cell_type": "code",
   "execution_count": null,
   "metadata": {},
   "outputs": [],
   "source": [
    "response = jeopardy.query.bm25(\n",
    "    query=\"railroad africa\",\n",
    "    query_properties=[\"answer\"],\n",
    "    limit=10,\n",
    ")\n",
    "\n",
    "for item in response.objects:\n",
    "    print(item.properties)"
   ]
  },
  {
   "cell_type": "markdown",
   "metadata": {},
   "source": [
    "## Hybrid search\n",
    "[Docs - hybrid](https://weaviate.io/developers/weaviate/search/hybrid)"
   ]
  },
  {
   "cell_type": "code",
   "execution_count": null,
   "metadata": {},
   "outputs": [],
   "source": [
    "jeopardy = client.collections.get(\"Jeopardy\")\n",
    "\n",
    "response = jeopardy.query.hybrid(\n",
    "    query=\"rail, trains and cars\",\n",
    "    alpha=0.8,\n",
    "    limit=5,\n",
    ")\n",
    "\n",
    "for item in response.objects:\n",
    "    print(item.properties[\"answer\"], \" || \", item.properties[\"question\"])"
   ]
  },
  {
   "cell_type": "code",
   "execution_count": null,
   "metadata": {},
   "outputs": [],
   "source": [
    "jeopardy = client.collections.get(\"Jeopardy\")\n",
    "\n",
    "response = jeopardy.query.hybrid(\n",
    "    query=\"train railroad cars\",\n",
    "    query_properties=[\"answer^5\", \"question\"],\n",
    "    alpha=0.5,\n",
    "    limit=5,\n",
    ")\n",
    "\n",
    "for item in response.objects:\n",
    "    print(item.properties[\"answer\"], \" || \", item.properties[\"question\"])"
   ]
  },
  {
   "cell_type": "code",
   "execution_count": null,
   "metadata": {},
   "outputs": [],
   "source": [
    "from weaviate.classes.query import MetadataQuery\n",
    "jeopardy = client.collections.get(\"Jeopardy\")\n",
    "\n",
    "response = jeopardy.query.hybrid(\n",
    "    query=\"train railroad cars\",\n",
    "    query_properties=[\"answer^5\", \"question\"],\n",
    "    alpha=0.5,\n",
    "    return_metadata=MetadataQuery(explain_score=True),\n",
    "    limit=5,\n",
    ")\n",
    "\n",
    "for item in response.objects:\n",
    "    print(item.metadata.explain_score)\n",
    "    print(item.properties[\"answer\"], \" || \", item.properties[\"question\"])"
   ]
  },
  {
   "cell_type": "markdown",
   "metadata": {},
   "source": [
    "## Close the client when done"
   ]
  },
  {
   "cell_type": "code",
   "execution_count": null,
   "metadata": {},
   "outputs": [],
   "source": [
    "client.close()"
   ]
  }
 ],
 "metadata": {
  "kernelspec": {
   "display_name": "Python 3",
   "language": "python",
   "name": "python3"
  },
  "language_info": {
   "codemirror_mode": {
    "name": "ipython",
    "version": 3
   },
   "file_extension": ".py",
   "mimetype": "text/x-python",
   "name": "python",
   "nbconvert_exporter": "python",
   "pygments_lexer": "ipython3",
   "version": "3.11.8"
  }
 },
 "nbformat": 4,
 "nbformat_minor": 2
}
