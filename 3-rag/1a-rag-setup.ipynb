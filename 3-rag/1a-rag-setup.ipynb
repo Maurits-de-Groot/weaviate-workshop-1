{
 "cells": [
  {
   "cell_type": "code",
   "execution_count": null,
   "metadata": {},
   "outputs": [],
   "source": [
    "import os\n",
    "from dotenv import load_dotenv, find_dotenv\n",
    "_ = load_dotenv(find_dotenv()) # read local .env file\n",
    "\n",
    "AWS_ACCESS_KEY = os.getenv(\"ACCESS_KEY\")\n",
    "AWS_SECRET_KEY = os.getenv(\"SECRET_KEY\")\n",
    "\n",
    "WEAVIATE_IP = os.getenv(\"WEAVIATE_IP\")"
   ]
  },
  {
   "cell_type": "markdown",
   "metadata": {},
   "source": [
    "## Connect\n"
   ]
  },
  {
   "cell_type": "code",
   "execution_count": null,
   "metadata": {},
   "outputs": [],
   "source": [
    "import weaviate\n",
    "\n",
    "client = weaviate.connect_to_custom(\n",
    "    http_host={WEAVIATE_IP}, http_port=\"8080\",  http_secure=False,\n",
    "    grpc_host={WEAVIATE_IP}, grpc_port=\"50051\", grpc_secure=False,\n",
    "\n",
    "    headers={\n",
    "        \"X-AWS-Access-Key\": AWS_ACCESS_KEY,\n",
    "        \"X-AWS-Secret-Key\": AWS_SECRET_KEY,\n",
    "    }\n",
    ")\n",
    "\n",
    "# Connect to the local instance deployed with Docker Compose\n",
    "# client = weaviate.connect_to_local(\n",
    "#     headers={\n",
    "#         \"X-AWS-Access-Key\": AWS_ACCESS_KEY,\n",
    "#         \"X-AWS-Secret-Key\": AWS_SECRET_KEY,\n",
    "#     }\n",
    "# )\n",
    "\n",
    "client.is_ready()"
   ]
  },
  {
   "cell_type": "markdown",
   "metadata": {},
   "source": [
    "## Create collection with a gerative model"
   ]
  },
  {
   "cell_type": "code",
   "execution_count": null,
   "metadata": {},
   "outputs": [],
   "source": [
    "from weaviate.classes.config import Configure, Property, DataType\n",
    "\n",
    "if (client.collections.exists(\"Papers\")):\n",
    "    client.collections.delete(\"Papers\")\n",
    "\n",
    "client.collections.create(\n",
    "    \"Papers\",\n",
    "\n",
    "    # Configure Vectorizer - with AWS vectorizer and Titan model(\"amazon.titan-embed-text-v1\")\n",
    "    vectorizer_config=Configure.Vectorizer.text2vec_aws(\n",
    "        model=\"amazon.titan-embed-text-v1\",\n",
    "        # region=\"eu-central-1\",\n",
    "        region=\"us-east-1\",\n",
    "    ),\n",
    "    \n",
    "    # Configure Generative model with AWS \"cohere.command-r-plus-v1:0\" model \n",
    "    generative_config=Configure.Generative.aws(\n",
    "        region=\"us-east-1\",\n",
    "        model=\"cohere.command-r-plus-v1:0\"\n",
    "    ),\n",
    "\n",
    "    properties=[  # Define properties (Optional)\n",
    "        Property(name=\"chunk\", data_type=DataType.TEXT),\n",
    "        Property(name=\"arxiv_id\", data_type=DataType.TEXT, skip_vectorization=True),\n",
    "        Property(name=\"title\", data_type=DataType.TEXT, skip_vectorization=True),\n",
    "        Property(name=\"url\", data_type=DataType.TEXT, skip_vectorization=True),\n",
    "        Property(name=\"chunk_no\", data_type=DataType.INT),\n",
    "    ],\n",
    ")"
   ]
  },
  {
   "cell_type": "markdown",
   "metadata": {},
   "source": [
    "## Close the client when done"
   ]
  },
  {
   "cell_type": "code",
   "execution_count": null,
   "metadata": {},
   "outputs": [],
   "source": [
    "client.close()"
   ]
  }
 ],
 "metadata": {
  "kernelspec": {
   "display_name": ".venv",
   "language": "python",
   "name": "python3"
  },
  "language_info": {
   "codemirror_mode": {
    "name": "ipython",
    "version": 3
   },
   "file_extension": ".py",
   "mimetype": "text/x-python",
   "name": "python",
   "nbconvert_exporter": "python",
   "pygments_lexer": "ipython3",
   "version": "3.11.8"
  }
 },
 "nbformat": 4,
 "nbformat_minor": 2
}
