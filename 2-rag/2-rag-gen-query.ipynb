{
 "cells": [
  {
   "cell_type": "code",
   "execution_count": 32,
   "metadata": {},
   "outputs": [],
   "source": [
    "import cohere, os\n",
    "co = cohere.Client(os.getenv(\"COHERE_API_KEY\"))\n",
    "\n",
    "def generate_query_from_promt(prompt):\n",
    "    response = co.chat(\n",
    "        message=prompt,\n",
    "        search_queries_only=True\n",
    "    )\n",
    "    return response.search_queries[0][\"text\"]"
   ]
  },
  {
   "cell_type": "code",
   "execution_count": 33,
   "metadata": {},
   "outputs": [
    {
     "data": {
      "text/plain": [
       "'tallest penguins'"
      ]
     },
     "execution_count": 33,
     "metadata": {},
     "output_type": "execute_result"
    }
   ],
   "source": [
    "# Example of how to generate a query from a prompt\n",
    "generate_query_from_promt(\"Where do the tallest penguins live?\")"
   ]
  },
  {
   "cell_type": "code",
   "execution_count": 34,
   "metadata": {},
   "outputs": [
    {
     "data": {
      "text/plain": [
       "True"
      ]
     },
     "execution_count": 34,
     "metadata": {},
     "output_type": "execute_result"
    }
   ],
   "source": [
    "import weaviate, os\n",
    "\n",
    "client = weaviate.connect_to_wcs(\n",
    "    cluster_url=os.getenv(\"WORKSHOP_DEMO_URL\"),\n",
    "    auth_credentials=weaviate.auth.AuthApiKey(os.getenv(\"WORKSHOP_DEMO_KEY_READ\")),\n",
    "\n",
    "    headers={\n",
    "        \"X-OpenAI-Api-Key\": os.getenv(\"OPENAI_API_KEY\"),\n",
    "        \"X-Cohere-Api-Key\": os.getenv(\"COHERE_API_KEY\"),\n",
    "\n",
    "        \"X-AWS-Access-Key\": os.getenv(\"AWS_ACCESS_KEY\"),\n",
    "        \"X-AWS-Secret-Key\": os.getenv(\"AWS_SECRET_KEY\"),\n",
    "    },\n",
    "\n",
    "    additional_config=weaviate.config.AdditionalConfig(timeout=(500, 1500))\n",
    ")\n",
    "\n",
    "client.is_ready()"
   ]
  },
  {
   "cell_type": "code",
   "execution_count": 35,
   "metadata": {},
   "outputs": [],
   "source": [
    "from weaviate.classes.query import Filter\n",
    "\n",
    "def two_step_rag(user_prompt):\n",
    "    # Step 1\n",
    "    prompt = user_prompt + \" Please only use the provided content with this prompt. Don't make things up.\"\n",
    "    \n",
    "    generated_query = generate_query_from_promt(prompt)\n",
    "    print(\"=== Generated Query ===\")\n",
    "    print(f\"Generated query: {generated_query}\")\n",
    "\n",
    "    # Step 2\n",
    "    wiki = client.collections.get(\"Wikipedia\")\n",
    "\n",
    "    response = wiki.generate.near_text(\n",
    "        query=generated_query,\n",
    "        auto_limit=1,\n",
    "        grouped_task=prompt,\n",
    "        grouped_properties=[\"text\", \"title\"]\n",
    "    )\n",
    "\n",
    "    # Print results\n",
    "    print(\"=== Generated Response ===\")\n",
    "    print(response.generated)\n",
    "\n",
    "    print(\"=== Source ===\")\n",
    "    for item in response.objects:\n",
    "        print(item.properties)"
   ]
  },
  {
   "cell_type": "code",
   "execution_count": 31,
   "metadata": {},
   "outputs": [
    {
     "name": "stdout",
     "output_type": "stream",
     "text": [
      "=== Generated Query ===\n",
      "Generated query: How do planes fly\n",
      "=== Generated Response ===\n",
      "Airplanes fly using a combination of complex flight control systems and the physical design of their wings. The main controls of an airplane allow the pilot to direct the aircraft in the air by controlling the attitude (roll, pitch and yaw) and engine thrust. This is achieved through the use of various components such as ailerons, rudders, flaps, and elevators, which are all part of the airplane's control system.\n",
      "\n",
      "The wings of an airplane are crucial for its ability to fly. They have flexible surfaces which are stretched across a frame and made rigid by the lift forces exerted by the airflow over them. This design allows the wings to provide lift, a force that counteracts the weight of the airplane and keeps it in the air. Larger aircraft have rigid wing surfaces which provide additional strength.\n",
      "\n",
      "The design of the wings can vary. For example, some wings have a double-taper planform, a relatively low aspect ratio, and fuel tanks permanently attached to the wingtips. The trailing edge of these wings has double-slotted trailing edge flaps inboard of mass-balanced ailerons. These flaps and ailerons, along with the rudder and elevators, are crucial for controlling the airplane's movement in the air.\n",
      "\n",
      "In some cases, airplanes can take off under rotor lift like a helicopter, then transition to fixed-wing lift in forward flight. This type of aircraft is known as a convertiplane.\n",
      "\n",
      "While the flight of airplanes is quite different from that of birds, the principles of aerodynamics apply to both. For example, the flight of hummingbirds has been studied intensively from an aerodynamic perspective, providing valuable insights that can be applied to the design and operation of aircraft.\n",
      "=== Source ===\n",
      "{'text': 'Airplanes have complex flight control systems. The main controls allow the pilot to direct the aircraft in the air by controlling the attitude (roll, pitch and yaw) and engine thrust.', 'views': 2446.125, 'wiki_id': 1396249, 'url': 'https://en.wikipedia.org/wiki?curid=1396249', 'title': 'Airplane', 'lang': 'en', 'lang_id': 0}\n",
      "{'text': 'Airplanes have flexible wing surfaces which are stretched across a frame and made rigid by the lift forces exerted by the airflow over them. Larger aircraft have rigid wing surfaces which provide additional strength.', 'views': 2446.125, 'wiki_id': 1396249, 'url': 'https://en.wikipedia.org/wiki?curid=1396249', 'title': 'Airplane', 'lang': 'en', 'lang_id': 0}\n",
      "{'text': \"The low-set, straight wing has a double-taper planform, 2½-deg dihedral from the roots, a relatively low aspect ratio, and fuel tanks permanently attached to the wingtips. The trailing edge has double-slotted trailing edge flaps inboard of mass-balanced ailerons; the flaps are separated from the ailerons by small wing fences. An automatic trimming system was present, the flaps and the trim system being connected in order to counteract the potentially large pitch changes that would otherwise be generated by vigorous movements of the flaps. The tall, swept vertical tail has an inset rudder. Variable-incidence horizontal stabilizers with inset elevators are mounted at the base of the rudder and over the exhaust nozzle. Side-by-side airbrakes are located under the fuselage ahead of the wing's leading edge. The flaps, landing gear, wheel brakes and air brakes are powered by a hydraulic system. Controls are pushrod-actuated and have electrically powered servo tabs on the ailerons and rudder. Operational g-force limits at are +8/-4 g.\", 'views': 2340.043212890625, 'wiki_id': 493727, 'url': 'https://en.wikipedia.org/wiki?curid=493727', 'title': 'Aero L-39 Albatros', 'lang': 'en', 'lang_id': 0}\n",
      "{'text': 'A convertiplane takes off under rotor lift like a helicopter, then transitions to fixed-wing lift in forward flight.', 'views': 1838.161376953125, 'wiki_id': 32709, 'url': 'https://en.wikipedia.org/wiki?curid=32709', 'title': 'VTOL', 'lang': 'en', 'lang_id': 0}\n",
      "{'text': 'Hummingbird flight has been studied intensively from an aerodynamic perspective using wind tunnels and high-speed video cameras.', 'views': 2563.1435546875, 'wiki_id': 70649, 'url': 'https://en.wikipedia.org/wiki?curid=70649', 'title': 'Hummingbird', 'lang': 'en', 'lang_id': 0}\n"
     ]
    }
   ],
   "source": [
    "# two_step_rag(\"What wild animals do we know about?\")\n",
    "two_step_rag(\"How do airplanes fly?\")"
   ]
  },
  {
   "cell_type": "code",
   "execution_count": 8,
   "metadata": {},
   "outputs": [
    {
     "name": "stdout",
     "output_type": "stream",
     "text": [
      "=== Generated Query ===\n",
      "Generated query: pros and cons of automation using computer ?\n",
      "=== Generated Response ===\n",
      "Pros of Automation Using Computer:\n",
      "\n",
      "1. Increased Production Output: As per the data from 2019, the production output of first world nations' manufacturing sectors was doubled when compared to 1984 output. This indicates that automation has significantly increased the efficiency and productivity of industries.\n",
      "\n",
      "2. Reduced Operating Costs: Automation has led to significantly reduced operating costs. This is because machines can work continuously without the need for breaks, and they do not require benefits or salaries.\n",
      "\n",
      "3. Less Requirement for Low-Skilled Workers: Automation has the potential to replace jobs that require less than a bachelor's degree. This could lead to a more educated and skilled workforce, as individuals would need to upskill to remain competitive.\n",
      "\n",
      "Cons of Automation Using Computer:\n",
      "\n",
      "1. Technological Unemployment: The rate at which jobs are disappearing due to machines\n",
      "=== Source ===\n",
      "{'text': \"There is an ongoing impact of technological unemployment due to automation and computerization: the rate at which jobs are disappearing—due to machines replacing them—is expected to escalate. Automation alters the number of jobs and the skills demands of industries. As of 2019, the production output of first world nations' manufacturing sectors was doubled when compared to 1984 output; but it is now produced with one-third fewer workers and at significantly reduced operating costs. Half of all jobs with requirements lower than a bachelor's degree are currently in the process of being replaced with partial- or full-automation.\", 'views': 2577.507568359375, 'wiki_id': 18938115, 'url': 'https://en.wikipedia.org/wiki?curid=18938115', 'title': '21st century', 'lang': 'en', 'lang_id': 0}\n"
     ]
    }
   ],
   "source": [
    "two_step_rag(\"What are the pros and cons of automation using computer?\")"
   ]
  },
  {
   "cell_type": "code",
   "execution_count": null,
   "metadata": {},
   "outputs": [],
   "source": [
    "two_step_rag(\"How do CPUs work?\")"
   ]
  }
 ],
 "metadata": {
  "kernelspec": {
   "display_name": ".venv",
   "language": "python",
   "name": "python3"
  },
  "language_info": {
   "codemirror_mode": {
    "name": "ipython",
    "version": 3
   },
   "file_extension": ".py",
   "mimetype": "text/x-python",
   "name": "python",
   "nbconvert_exporter": "python",
   "pygments_lexer": "ipython3",
   "version": "3.11.8"
  }
 },
 "nbformat": 4,
 "nbformat_minor": 2
}
