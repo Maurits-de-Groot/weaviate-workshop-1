{
 "cells": [
  {
   "cell_type": "code",
   "execution_count": null,
   "metadata": {},
   "outputs": [],
   "source": [
    "import os\n",
    "from dotenv import load_dotenv, find_dotenv\n",
    "_ = load_dotenv(find_dotenv()) # read local .env file\n",
    "\n",
    "AWS_ACCESS_KEY = os.getenv(\"ACCESS_KEY\")\n",
    "AWS_SECRET_KEY = os.getenv(\"SECRET_KEY\")\n",
    "\n",
    "WEAVIATE_IP = os.getenv(\"WEAVIATE_IP\")"
   ]
  },
  {
   "cell_type": "markdown",
   "metadata": {},
   "source": [
    "## Connect"
   ]
  },
  {
   "cell_type": "code",
   "execution_count": null,
   "metadata": {},
   "outputs": [],
   "source": [
    "import weaviate\n",
    "\n",
    "client = weaviate.connect_to_custom(\n",
    "    http_host={WEAVIATE_IP}, http_port=\"8080\",  http_secure=False,\n",
    "    grpc_host={WEAVIATE_IP}, grpc_port=\"50051\", grpc_secure=False,\n",
    "\n",
    "    headers={\n",
    "        \"X-AWS-Access-Key\": AWS_ACCESS_KEY,\n",
    "        \"X-AWS-Secret-Key\": AWS_SECRET_KEY,\n",
    "    }\n",
    ")\n",
    "\n",
    "# Connect to the local instance deployed with Docker Compose\n",
    "# client = weaviate.connect_to_local(\n",
    "#     headers={\n",
    "#         \"X-AWS-Access-Key\": AWS_ACCESS_KEY,\n",
    "#         \"X-AWS-Secret-Key\": AWS_SECRET_KEY,\n",
    "#     }\n",
    "# )\n",
    "\n",
    "client.is_ready()"
   ]
  },
  {
   "cell_type": "markdown",
   "metadata": {},
   "source": [
    "## Preview data"
   ]
  },
  {
   "cell_type": "code",
   "execution_count": null,
   "metadata": {},
   "outputs": [],
   "source": [
    "from weaviate.classes.query import Filter\n",
    "\n",
    "wiki = client.collections.get(\"Wikipedia\")\n",
    "\n",
    "# TODO: fetch 5 objects with a Filter where \"text\" property contains \"musical\"\n",
    "response = \n",
    "\n",
    "for item in response.objects:\n",
    "    print(item.properties[\"wiki_id\"])\n",
    "    print(item.properties[\"title\"])\n",
    "    print(item.properties[\"text\"], '\\n')"
   ]
  },
  {
   "cell_type": "markdown",
   "metadata": {},
   "source": [
    "## Vector search"
   ]
  },
  {
   "cell_type": "code",
   "execution_count": null,
   "metadata": {},
   "outputs": [],
   "source": [
    "wiki = client.collections.get(\"Wikipedia\")\n",
    "\n",
    "# TODO: run near text query to search for \"musical instruments\", limit results to 5 objects\n",
    "response = \n",
    "\n",
    "for item in response.objects:\n",
    "    print(item.properties)"
   ]
  },
  {
   "cell_type": "markdown",
   "metadata": {},
   "source": [
    "> Feel free to try other queries"
   ]
  },
  {
   "cell_type": "markdown",
   "metadata": {},
   "source": [
    "## Close the client when done"
   ]
  },
  {
   "cell_type": "code",
   "execution_count": null,
   "metadata": {},
   "outputs": [],
   "source": [
    "client.close()"
   ]
  }
 ],
 "metadata": {
  "kernelspec": {
   "display_name": ".venv",
   "language": "python",
   "name": "python3"
  },
  "language_info": {
   "codemirror_mode": {
    "name": "ipython",
    "version": 3
   },
   "file_extension": ".py",
   "mimetype": "text/x-python",
   "name": "python",
   "nbconvert_exporter": "python",
   "pygments_lexer": "ipython3",
   "version": "3.11.8"
  }
 },
 "nbformat": 4,
 "nbformat_minor": 2
}
