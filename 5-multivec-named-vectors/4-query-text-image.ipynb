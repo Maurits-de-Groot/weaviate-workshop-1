{
 "cells": [
  {
   "cell_type": "code",
   "execution_count": 12,
   "metadata": {},
   "outputs": [
    {
     "data": {
      "text/plain": [
       "True"
      ]
     },
     "execution_count": 12,
     "metadata": {},
     "output_type": "execute_result"
    }
   ],
   "source": [
    "import weaviate, os\n",
    "\n",
    "# Connect to a cloud instance of Weaviate (with WCS)\n",
    "# client = weaviate.connect_to_wcs(\n",
    "#     cluster_url=os.getenv(\"WORKSHOP_DEMO_URL\"),\n",
    "#     auth_credentials=weaviate.auth.AuthApiKey(os.getenv(\"WORKSHOP_DEMO_KEY_ADMIN\")),\n",
    "#     headers={\n",
    "#         \"X-OpenAI-Api-Key\": os.getenv(\"OPENAI_API_KEY\"), # Replace with your inference API key\n",
    "#         \"X-Cohere-Api-Key\": os.getenv(\"COHERE_API_KEY\"), # Replace with your inference API key\n",
    "#     }\n",
    "# )\n",
    "\n",
    "# Connect to the local instance deployed with Docker Compose\n",
    "client = weaviate.connect_to_local(\n",
    "    headers={\n",
    "        \"X-OpenAI-Api-Key\": os.getenv(\"OPENAI_API_KEY\"),\n",
    "    }\n",
    ")\n",
    "\n",
    "client.is_ready()"
   ]
  },
  {
   "cell_type": "markdown",
   "metadata": {},
   "source": [
    "## Search\n",
    "### On `title` vector"
   ]
  },
  {
   "cell_type": "code",
   "execution_count": 13,
   "metadata": {},
   "outputs": [
    {
     "name": "stdout",
     "output_type": "stream",
     "text": [
      "How the Grinch Stole Christmas 2000 8871 https://image.tmdb.org/t/p/w600_and_h900_bestv2/AmUs3hximCKa90sHuIRr5Bz8ci5.jpg\n",
      "Distance to query: 0.148\n",
      "\n",
      "Jingle All the Way 1996 9279 https://image.tmdb.org/t/p/w600_and_h900_bestv2/lHLOUt0ZIQLC5asHdIQBoTUvaEp.jpg\n",
      "Distance to query: 0.153\n",
      "\n",
      "The Nightmare Before Christmas 1993 9479 https://image.tmdb.org/t/p/w600_and_h900_bestv2/oQffRNjK8e19rF7xVYEN8ew0j7b.jpg\n",
      "Distance to query: 0.154\n",
      "\n",
      "A Star Is Born 2018 332562 https://image.tmdb.org/t/p/w600_and_h900_bestv2/wrFpXMNBRj2PBiN4Z5kix51XaIZ.jpg\n",
      "Distance to query: 0.170\n",
      "\n",
      "Toy Story 1995 862 https://image.tmdb.org/t/p/w600_and_h900_bestv2/uXDfjJbdP4ijW5hWSBrPrlKpxab.jpg\n",
      "Distance to query: 0.171\n",
      "\n"
     ]
    }
   ],
   "source": [
    "import weaviate.classes.query as wq\n",
    "\n",
    "# Get the collection\n",
    "movies = client.collections.get(\"MoviesMM\")\n",
    "\n",
    "# Perform query\n",
    "response = movies.query.near_text(\n",
    "    query=\"A joyful holiday film\",\n",
    "    target_vector=\"title\",  # The target vector to search against\n",
    "    limit=5,\n",
    "    return_metadata=wq.MetadataQuery(distance=True),\n",
    ")\n",
    "\n",
    "# Inspect the response\n",
    "for o in response.objects:\n",
    "    # Print the title and release year (note the release date is a datetime object)\n",
    "    print(\n",
    "        o.properties[\"title\"],\n",
    "        o.properties[\"release_date\"].year,\n",
    "        o.properties[\"tmdb_id\"],\n",
    "        o.properties[\"poster_url\"]\n",
    "    )\n",
    "\n",
    "    # Print the distance of the object from the query\n",
    "    print(\n",
    "        f\"Distance to query: {o.metadata.distance:.3f}\\n\"\n",
    "    )"
   ]
  },
  {
   "cell_type": "markdown",
   "metadata": {},
   "source": [
    "### On `overview` vector"
   ]
  },
  {
   "cell_type": "code",
   "execution_count": 3,
   "metadata": {},
   "outputs": [
    {
     "name": "stdout",
     "output_type": "stream",
     "text": [
      "How the Grinch Stole Christmas 2000 8871 https://image.tmdb.org/t/p/w600_and_h900_bestv2/AmUs3hximCKa90sHuIRr5Bz8ci5.jpg\n",
      "Distance to query: 0.140\n",
      "\n",
      "Home Alone 1990 771 https://image.tmdb.org/t/p/w600_and_h900_bestv2/onTSipZ8R3bliBdKfPtsDuHTdlL.jpg\n",
      "Distance to query: 0.162\n",
      "\n",
      "Onward 2020 508439 https://image.tmdb.org/t/p/w600_and_h900_bestv2/f4aul3FyD3jv3v4bul1IrkWZvzq.jpg\n",
      "Distance to query: 0.164\n",
      "\n",
      "Little Miss Sunshine 2006 773 https://image.tmdb.org/t/p/w600_and_h900_bestv2/cfVDxpSgP4J7wPavgZTm8KbEai6.jpg\n",
      "Distance to query: 0.166\n",
      "\n",
      "Home Alone 2: Lost in New York 1992 772 https://image.tmdb.org/t/p/w600_and_h900_bestv2/uuitWHpJwxD1wruFl2nZHIb4UGN.jpg\n",
      "Distance to query: 0.169\n",
      "\n"
     ]
    }
   ],
   "source": [
    "import weaviate.classes.query as wq\n",
    "\n",
    "# Get the collection\n",
    "movies = client.collections.get(\"MoviesMM\")\n",
    "\n",
    "# Perform query\n",
    "response = movies.query.near_text(\n",
    "    query=\"A joyful holiday film\",\n",
    "    target_vector=\"overview\",  # The target vector to search against\n",
    "    limit=5,\n",
    "    return_properties=[\"title\", \"release_date\", \"tmdb_id\", \"poster_path\"],\n",
    "    return_metadata=wq.MetadataQuery(distance=True),\n",
    ")\n",
    "\n",
    "# Inspect the response\n",
    "for o in response.objects:\n",
    "    # Print the title and release year (note the release date is a datetime object)\n",
    "    print(\n",
    "        o.properties[\"title\"],\n",
    "        o.properties[\"release_date\"].year,\n",
    "        o.properties[\"tmdb_id\"],\n",
    "        o.properties[\"poster_path\"]\n",
    "    )\n",
    "\n",
    "    # Print the distance of the object from the query\n",
    "    print(\n",
    "        f\"Distance to query: {o.metadata.distance:.3f}\\n\"\n",
    "    )"
   ]
  },
  {
   "cell_type": "markdown",
   "metadata": {},
   "source": [
    "### On `poster` vector"
   ]
  },
  {
   "cell_type": "code",
   "execution_count": 5,
   "metadata": {},
   "outputs": [
    {
     "name": "stdout",
     "output_type": "stream",
     "text": [
      "Love Actually 2003 508 https://image.tmdb.org/t/p/w600_and_h900_bestv2/1ODdWLpyOnIVl0l67GrdaFDlJGf.jpg\n",
      "Distance to query: 0.606\n",
      "\n",
      "Jingle All the Way 1996 9279 https://image.tmdb.org/t/p/w600_and_h900_bestv2/lHLOUt0ZIQLC5asHdIQBoTUvaEp.jpg\n",
      "Distance to query: 0.615\n",
      "\n",
      "Life Is Beautiful 1997 637 https://image.tmdb.org/t/p/w600_and_h900_bestv2/6tEJnof1DKWPnl5lzkjf0FVv7oB.jpg\n",
      "Distance to query: 0.619\n",
      "\n",
      "Misery 1990 1700 https://image.tmdb.org/t/p/w600_and_h900_bestv2/klPO5oh1LOxiPpdDXZo1ADgpKcw.jpg\n",
      "Distance to query: 0.622\n",
      "\n",
      "Groundhog Day 1993 137 https://image.tmdb.org/t/p/w600_and_h900_bestv2/gCgt1WARPZaXnq523ySQEUKinCs.jpg\n",
      "Distance to query: 0.627\n",
      "\n"
     ]
    }
   ],
   "source": [
    "import weaviate.classes.query as wq\n",
    "\n",
    "# Get the collection\n",
    "movies = client.collections.get(\"MoviesMM\")\n",
    "\n",
    "# Perform query\n",
    "response = movies.query.near_text(\n",
    "    query=\"A joyful holiday film\",\n",
    "    target_vector=\"poster\",  # The target vector to search against\n",
    "    limit=5,\n",
    "    return_properties=[\"title\", \"release_date\", \"tmdb_id\", \"poster_path\"],\n",
    "    return_metadata=wq.MetadataQuery(distance=True),\n",
    ")\n",
    "\n",
    "# Inspect the response\n",
    "for o in response.objects:\n",
    "    # Print the title and release year (note the release date is a datetime object)\n",
    "    print(\n",
    "        o.properties[\"title\"],\n",
    "        o.properties[\"release_date\"].year,\n",
    "        o.properties[\"tmdb_id\"],\n",
    "        o.properties[\"poster_path\"]\n",
    "    )\n",
    "\n",
    "    # Print the distance of the object from the query\n",
    "    print(\n",
    "        f\"Distance to query: {o.metadata.distance:.3f}\\n\"\n",
    "    )"
   ]
  },
  {
   "cell_type": "markdown",
   "metadata": {},
   "source": [
    "### `Image search` on `poster` vector"
   ]
  },
  {
   "cell_type": "code",
   "execution_count": 11,
   "metadata": {},
   "outputs": [
    {
     "name": "stdout",
     "output_type": "stream",
     "text": [
      "Child's Play 3 1991 11187 https://image.tmdb.org/t/p/w600_and_h900_bestv2/rHUOQShfzQTdE625cqwZoIOTvik.jpg\n",
      "Distance to query: 0.311\n",
      "\n",
      "The Simpsons Movie 2007 35 https://image.tmdb.org/t/p/w600_and_h900_bestv2/s3b8TZWwmkYc2KoJ5zk77qB6PzY.jpg\n",
      "Distance to query: 0.320\n",
      "\n",
      "Despicable Me 2010 20352 https://image.tmdb.org/t/p/w600_and_h900_bestv2/9lOloREsAhBu0pEtU0BgeR1rHyo.jpg\n",
      "Distance to query: 0.329\n",
      "\n",
      "Ice Age 2002 425 https://image.tmdb.org/t/p/w600_and_h900_bestv2/gLhHHZUzeseRXShoDyC4VqLgsNv.jpg\n",
      "Distance to query: 0.332\n",
      "\n",
      "The Black Phone 2022 756999 https://image.tmdb.org/t/p/w600_and_h900_bestv2/lr11mCT85T1JanlgjMuhs9nMht4.jpg\n",
      "Distance to query: 0.332\n",
      "\n"
     ]
    },
    {
     "data": {
      "text/plain": [
       "{'release_date': datetime.datetime(1991, 8, 30, 0, 0, tzinfo=datetime.timezone.utc),\n",
       " 'tmdb_id': 11187,\n",
       " 'poster_path': 'https://image.tmdb.org/t/p/w600_and_h900_bestv2/rHUOQShfzQTdE625cqwZoIOTvik.jpg',\n",
       " 'poster_url': None,\n",
       " 'rating': 5.9,\n",
       " 'title': \"Child's Play 3\",\n",
       " 'overview': 'Eight years have passed since the events of the second film. Chucky has been resurrected once again and seeks revenge on Andy, his former owner, who is now a teenager enrolled in military school.'}"
      ]
     },
     "execution_count": 11,
     "metadata": {},
     "output_type": "execute_result"
    }
   ],
   "source": [
    "import weaviate.classes.query as wq\n",
    "from pathlib import Path\n",
    "\n",
    "# Get the collection\n",
    "movies = client.collections.get(\"MoviesMM\")\n",
    "\n",
    "# Perform query\n",
    "response = movies.query.near_image(\n",
    "    # near_image=Path(\"./test/pirate_ship.jpeg\"),\n",
    "    near_image=Path(\"./test/homer.png\"),\n",
    "    target_vector=\"poster\",  # The target vector to search against\n",
    "    limit=5,\n",
    "    return_metadata=wq.MetadataQuery(distance=True),\n",
    ")\n",
    "\n",
    "# Inspect the response\n",
    "for o in response.objects:\n",
    "    # Print the title and release year (note the release date is a datetime object)\n",
    "    print(\n",
    "        o.properties[\"title\"],\n",
    "        o.properties[\"release_date\"].year,\n",
    "        o.properties[\"tmdb_id\"],\n",
    "        o.properties[\"poster_path\"]\n",
    "    )\n",
    "\n",
    "    # Print the distance of the object from the query\n",
    "    print(\n",
    "        f\"Distance to query: {o.metadata.distance:.3f}\\n\"\n",
    "    )"
   ]
  },
  {
   "cell_type": "code",
   "execution_count": null,
   "metadata": {},
   "outputs": [],
   "source": []
  }
 ],
 "metadata": {
  "kernelspec": {
   "display_name": ".venv",
   "language": "python",
   "name": "python3"
  },
  "language_info": {
   "codemirror_mode": {
    "name": "ipython",
    "version": 3
   },
   "file_extension": ".py",
   "mimetype": "text/x-python",
   "name": "python",
   "nbconvert_exporter": "python",
   "pygments_lexer": "ipython3",
   "version": "3.11.8"
  }
 },
 "nbformat": 4,
 "nbformat_minor": 2
}
